{
 "cells": [
  {
   "cell_type": "code",
   "execution_count": null,
   "id": "04993afc",
   "metadata": {},
   "outputs": [],
   "source": [
    "address_book = [\n",
    "    ('Hank', 'Mardukas', '123 Real Street', '(555) 555-1234'),\n",
    "    ('Peter', 'Klaven', '321 Fake Street', '(555) 555-4321'),\n",
    "    ('Sydney', 'Fife', '555 Santa Monica Drive', '(222) 222-6789'),\n",
    "    ('Tevin', 'Downey', '100 Rodeo Blvd', '(333) 333-3245')\n",
    "]"
   ]
  }
 ],
 "metadata": {
  "kernelspec": {
   "display_name": "Python 3 (ipykernel)",
   "language": "python",
   "name": "python3"
  },
  "language_info": {
   "codemirror_mode": {
    "name": "ipython",
    "version": 3
   },
   "file_extension": ".py",
   "mimetype": "text/x-python",
   "name": "python",
   "nbconvert_exporter": "python",
   "pygments_lexer": "ipython3",
   "version": "3.11.4"
  }
 },
 "nbformat": 4,
 "nbformat_minor": 5
}
